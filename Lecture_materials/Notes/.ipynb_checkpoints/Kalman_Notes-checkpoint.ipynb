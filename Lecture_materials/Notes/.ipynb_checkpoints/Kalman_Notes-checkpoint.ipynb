{
 "cells": [
  {
   "cell_type": "code",
   "execution_count": 10,
   "metadata": {},
   "outputs": [
    {
     "data": {
      "text/plain": [
       "0.19947114020071635"
      ]
     },
     "execution_count": 10,
     "metadata": {},
     "output_type": "execute_result"
    }
   ],
   "source": [
    "import numpy as np\n",
    "\n",
    "\n",
    "def f(mu, sigma_sq, x):\n",
    "    mult1 = np.divide(1, np.sqrt(2*np.pi*sigma_sq))\n",
    "    exponent = -0.5*np.divide((x - mu)**2, sigma_sq)\n",
    "    return mult1*np.exp(exponent)\n",
    "\n",
    "sigma_sq = 4.\n",
    "x = 10.\n",
    "mu = 10.\n",
    "f(mu, sigma_sq, x)"
   ]
  },
  {
   "cell_type": "markdown",
   "metadata": {},
   "source": [
    "The Kalman Filter represents our distributions by Gaussians and iterates on two main cycles. <br>\n",
    "\n",
    "---\n",
    "\n",
    "The first cycle is the **Measurement Update.**\n",
    "* Requires a product\n",
    "* Uses Bayes rule\n",
    "\n",
    "$$p(X | Z) = \\frac{P(Z | X) P (X)}{P(Z)}$$\n",
    "\n",
    "* $P(X)$ is prior\n",
    "* $P(Z | X)$ is measurement probability\n",
    "* $P(Z)$ is probability of seeing a measurement devoid of any location information (~ used as normalization)\n",
    "* $p(X | Z)$ is posterior distribution\n",
    "\n",
    "---\n",
    "\n",
    "The second cycle is the **Motion Update.**\n",
    "* Involves a convolution\n",
    "* Uses total probability."
   ]
  },
  {
   "cell_type": "code",
   "execution_count": 42,
   "metadata": {},
   "outputs": [
    {
     "data": {
      "text/plain": [
       "[12.4, 1.6]"
      ]
     },
     "execution_count": 42,
     "metadata": {},
     "output_type": "execute_result"
    }
   ],
   "source": [
    "def calc_new_mean(mean1, var1, mean2, var2):\n",
    "    return np.divide((var2*mean1 + var1*mean2), var1 + var2)\n",
    "\n",
    "def calc_new_variance(var1, var2):\n",
    "    return np.divide(1, np.divide(1, var1) + np.divide(1, var2))\n",
    "\n",
    "# Measurement update\n",
    "def update(mean1, var1, mean2, var2):\n",
    "    new_mean = calc_new_mean(mean1, var1, mean2, var2)\n",
    "    new_var = calc_new_variance(var1, var2)\n",
    "    return [new_mean, new_var]\n",
    "\n",
    "\n",
    "var1 = 8\n",
    "mean1 = 10\n",
    "\n",
    "var2 = 2\n",
    "mean2 = 13\n",
    "\n",
    "update(mean1, var1, mean2, var2)"
   ]
  },
  {
   "cell_type": "markdown",
   "metadata": {},
   "source": [
    "### Motion update\n",
    "\n",
    "<figure>\n",
    " <img src=\"img/MotionUpdate.png\" alt=\"Combined Image\" />\n",
    "</figure>\n"
   ]
  },
  {
   "cell_type": "code",
   "execution_count": 44,
   "metadata": {},
   "outputs": [],
   "source": [
    "def predict(mean1, var1, mean2, var2):\n",
    "    new_mean = mean1 + mean2\n",
    "    new_var = var1 + var2\n",
    "    return [new_mean, new_var]"
   ]
  },
  {
   "cell_type": "code",
   "execution_count": 47,
   "metadata": {},
   "outputs": [
    {
     "name": "stdout",
     "output_type": "stream",
     "text": [
      "5.998000799680128 5.998400639744102\n",
      "6.999200191953932 4.399744061425258\n",
      "8.999619127420921 4.09518005751176\n",
      "9.999811802788143 4.023515241621696\n",
      "10.999906177177365 4.005861580844194\n"
     ]
    }
   ],
   "source": [
    "measurements = [5., 6., 7., 9., 10.]\n",
    "motion = [1., 1., 2., 1., 1.]\n",
    "measurement_sig = 4.\n",
    "motion_sig = 2.\n",
    "mu = 0.\n",
    "sig = 10000.\n",
    "\n",
    "mean1 = mu\n",
    "var1 = sig\n",
    "\n",
    "for measurement, mot in zip(measurements, motion):\n",
    "    [new_mean, new_var] = update(mean1, var1, measurement, measurement_sig)\n",
    "    [new_mean, new_var] = predict(new_mean, new_var, mot, motion_sig)\n",
    "    mean1 = new_mean\n",
    "    var1 = new_var\n",
    "    print(new_mean, new_var)"
   ]
  },
  {
   "cell_type": "markdown",
   "metadata": {},
   "source": [
    "### Multivariate gaussians\n",
    "\n",
    "<figure>\n",
    " <img src=\"img/2DGaussian.png\" alt=\"Combined Image\" />\n",
    "</figure>"
   ]
  },
  {
   "cell_type": "markdown",
   "metadata": {},
   "source": [
    "### Design\n",
    "\n",
    "\n",
    "1. For state -> the state transition function\n",
    "\n",
    "$$ \\begin{pmatrix} \n",
    "x \\\\\n",
    "\\dot{x} \n",
    "\\end{pmatrix}\n",
    "\\leftarrow\n",
    "\\begin{pmatrix} \n",
    "1 & 1 \\\\\n",
    "0 & 1\n",
    "\\end{pmatrix}\n",
    "\\begin{pmatrix} \n",
    "x \\\\\n",
    "\\dot{x} \n",
    "\\end{pmatrix}\n",
    "$$\n",
    "\n",
    "$$x' = x + \\dot{x}$$\n",
    "$$\\dot{x}' = \\dot{x}$$\n",
    "\n",
    "2. Measurement function\n",
    "\n",
    "$$ z\n",
    "\\leftarrow\n",
    "\\begin{pmatrix} \n",
    "1 & 0\n",
    "\\end{pmatrix}\n",
    "\\begin{pmatrix} \n",
    "x \\\\\n",
    "\\dot{x} \n",
    "\\end{pmatrix}\n",
    "$$\n"
   ]
  },
  {
   "cell_type": "code",
   "execution_count": null,
   "metadata": {},
   "outputs": [],
   "source": []
  }
 ],
 "metadata": {
  "kernelspec": {
   "display_name": "Python 3",
   "language": "python",
   "name": "python3"
  },
  "language_info": {
   "codemirror_mode": {
    "name": "ipython",
    "version": 3
   },
   "file_extension": ".py",
   "mimetype": "text/x-python",
   "name": "python",
   "nbconvert_exporter": "python",
   "pygments_lexer": "ipython3",
   "version": "3.6.7"
  }
 },
 "nbformat": 4,
 "nbformat_minor": 2
}
